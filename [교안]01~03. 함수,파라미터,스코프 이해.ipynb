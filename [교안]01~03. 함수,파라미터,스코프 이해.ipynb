{
 "cells": [
  {
   "cell_type": "markdown",
   "metadata": {},
   "source": [
    "### 학습목표\n",
    " 1. 함수의 이해\n",
    " 2. 함수 구현 및 사용 숙지"
   ]
  },
  {
   "cell_type": "markdown",
   "metadata": {},
   "source": [
    "### 함수?\n",
    "* 지금까지 무심코 코드에서 사용된 많은 함수들이 존재함.\n",
    "* 예시로, sum, len, range 같은 함수 등등\n",
    "* 함수란 우리가 알고있는 개념처럼 주어진 입력(input)에 대해서 의도된 출력(output)를 전달하는 역할을 함.\n",
    "\n",
    "  > range 함수는 정수를 입력으로 전달하면 [0, 정수) 로 이루어진 리스트를 생성하는 역할을 합니다.\n",
    "  \n",
    "  > sum 함수는 리스트, 튜플등을 입력으로 전달하면 전체 아이템의 합을 출력으로 전달하는 역할을 합니다.\n",
    "  \n",
    "  > len 함수는 리스트, 튜플등을 입력으로 전달하면 아이템의 개수를 출력으로 전달하는 역할을 합니다.\n",
    "  \n",
    "* 그리고, 위의 함수들은 모두 python 내부에 이미 정의(구현)이 되어 있음.\n",
    "* 위와 같은 함수를 내장함수(built-in function)이라고 함."
   ]
  },
  {
   "cell_type": "code",
   "execution_count": 3,
   "metadata": {},
   "outputs": [
    {
     "name": "stdout",
     "output_type": "stream",
     "text": [
      "4\n",
      "10\n"
     ]
    }
   ],
   "source": [
    "# 내장 함수의 예\n",
    "a = [1, 2, 3, 4]\n",
    "\n",
    "length = len(a)\n",
    "print(length)\n",
    "\n",
    "summation = sum(a)\n",
    "print(summation)"
   ]
  },
  {
   "cell_type": "markdown",
   "metadata": {},
   "source": [
    "#### **함수의 정의**\n",
    "  + 정의 시 최초에 def 키워드 사용\n",
    "  + argument 정의 (함수에 입력으로 전달하는 값을 의미, argument 또는 parameter라고 함) \n",
    "  + : (콜론) -> 함수 역시 코드 블록이기 때문에 콜론(:) 필요\n",
    "  + body (함수의 구현 부분, 함수 역시 코드 블록이기 때문에 들여쓰기 된 부분까지 함수의 코드블록으로 인지 함)\n",
    "    - 함수를 호출한 코드 (caller)로 함수가 해당 기능을 수행하고 완료된 값(output)을 전달하기 위해 return 키워드 사용\n",
    "    - 즉, return 이후에 오는 값을 caller로 전달\n",
    "  + 함수의 네이밍 역시 중요\n",
    "    - 즉, 어떤 기능을 하는 함수인지 이름으로 최대한 나타날 수 있게 해야함\n",
    "    - e.g) get_a (x) get_student_name (o)"
   ]
  },
  {
   "cell_type": "code",
   "execution_count": 5,
   "metadata": {},
   "outputs": [],
   "source": [
    "def add(x, y): # def {함수이름}(인자):\n",
    "    new = x + y\n",
    "    return new"
   ]
  },
  {
   "cell_type": "code",
   "execution_count": 6,
   "metadata": {},
   "outputs": [
    {
     "data": {
      "text/plain": [
       "330"
      ]
     },
     "execution_count": 6,
     "metadata": {},
     "output_type": "execute_result"
    }
   ],
   "source": [
    "l = len([1, 2, 3]) # 내장함수\n",
    "\n",
    "c = add(30, 300)   # 사용자 정의 함수\n",
    "print(c)"
   ]
  },
  {
   "cell_type": "markdown",
   "metadata": {},
   "source": [
    "#### **함수의 사용(호출)**\n",
    " + 함수명(파라미터1, 파라미터2, ... 파라미터n)\n",
    " + 위와 같이 정의 된 함수의 이름과 전달되는 parameter(인자)를 괄호안에 전달하여 함수를 호출\n",
    " + 함수가 호출되면 실행의 흐름이 호출자(caller)에서 함수(callee)로 변경 됨\n",
    " \n",
    " + 함수의 입력(인풋) 파라미터(parameter), 아규먼트(argument)라고도 함"
   ]
  },
  {
   "cell_type": "code",
   "execution_count": 8,
   "metadata": {},
   "outputs": [
    {
     "ename": "TypeError",
     "evalue": "add() missing 2 required positional arguments: 'x' and 'y'",
     "output_type": "error",
     "traceback": [
      "\u001b[1;31m---------------------------------------------------------------------------\u001b[0m",
      "\u001b[1;31mTypeError\u001b[0m                                 Traceback (most recent call last)",
      "Input \u001b[1;32mIn [8]\u001b[0m, in \u001b[0;36m<cell line: 3>\u001b[1;34m()\u001b[0m\n\u001b[0;32m      1\u001b[0m \u001b[38;5;66;03m# 인자를 명시하지 않았을 때\u001b[39;00m\n\u001b[1;32m----> 3\u001b[0m c \u001b[38;5;241m=\u001b[39m \u001b[43madd\u001b[49m\u001b[43m(\u001b[49m\u001b[43m)\u001b[49m\n\u001b[0;32m      4\u001b[0m \u001b[38;5;28mprint\u001b[39m(c)\n",
      "\u001b[1;31mTypeError\u001b[0m: add() missing 2 required positional arguments: 'x' and 'y'"
     ]
    }
   ],
   "source": [
    "# 인자를 명시하지 않았을 때\n",
    "\n",
    "c = add()\n",
    "print(c)"
   ]
  },
  {
   "cell_type": "markdown",
   "metadata": {},
   "source": [
    "#### **함수 네이밍(naming)**\n",
    "  * 함수 이름으로부터 기능이 명시 \n",
    "  * 의미와 반대되거나 맞지 않는 이름은 사용금지"
   ]
  },
  {
   "cell_type": "code",
   "execution_count": 9,
   "metadata": {},
   "outputs": [
    {
     "name": "stdout",
     "output_type": "stream",
     "text": [
      "1\n"
     ]
    }
   ],
   "source": [
    "# 적합하지 않은 함수 네임(의미 반대)\n",
    "\n",
    "def add(x, y):\n",
    "    sub = x - y\n",
    "    return sub\n",
    "\n",
    "# 적합한 함수 네임\n",
    "def substract(x, y):\n",
    "    sub = x - y\n",
    "    return sub\n",
    "\n",
    "print(substract(4, 3))"
   ]
  },
  {
   "cell_type": "markdown",
   "metadata": {},
   "source": [
    "#### **parameter(argument) (인자)**\n",
    " + 함수에 전달되는 입력(input)\n",
    " + 입력이 필요하지 않을 수도, 1개의 입력만 있을 수도, 여러개의 입력이 존재할 수 도 있음\n",
    " + 파라미터로 int, string, float, boolm, list, dict 등등 어떤 파이썬 객체도 전달 가능\n",
    " + 심지어, 함수도 함수의 파라미터로 전달 가능\n",
    " \n",
    " + python의 경우, \"타입 명시\"가 없기 때문에, 함수 생성 시, 의도된 파라미터의 타입에 맞게 입력을 전달하는 것이 중요\n",
    " + 또한 파라미터를 전달 할 때, 정의된 순서에 따라 값을 전달하는 것이 중요\n"
   ]
  },
  {
   "cell_type": "code",
   "execution_count": 10,
   "metadata": {},
   "outputs": [
    {
     "name": "stdout",
     "output_type": "stream",
     "text": [
      "hello\n",
      "python\n",
      "100\n"
     ]
    }
   ],
   "source": [
    "# 파라미터가 없는 경우의 함수, 유효한 함수\n",
    "\n",
    "def test():\n",
    "    print('hello')\n",
    "    print('python')\n",
    "    \n",
    "    return 100\n",
    "\n",
    "a = test()\n",
    "print(a)"
   ]
  },
  {
   "cell_type": "code",
   "execution_count": 12,
   "metadata": {},
   "outputs": [
    {
     "name": "stdout",
     "output_type": "stream",
     "text": [
      "10 20\n",
      "30\n"
     ]
    }
   ],
   "source": [
    "def test(x, y):\n",
    "    print(x, y)\n",
    "    n = x + y\n",
    "    \n",
    "    return n\n",
    "\n",
    "a = test(10, 20)\n",
    "print(a)"
   ]
  },
  {
   "cell_type": "code",
   "execution_count": 13,
   "metadata": {},
   "outputs": [
    {
     "ename": "TypeError",
     "evalue": "unsupported operand type(s) for -: 'str' and 'str'",
     "output_type": "error",
     "traceback": [
      "\u001b[1;31m---------------------------------------------------------------------------\u001b[0m",
      "\u001b[1;31mTypeError\u001b[0m                                 Traceback (most recent call last)",
      "Input \u001b[1;32mIn [13]\u001b[0m, in \u001b[0;36m<cell line: 8>\u001b[1;34m()\u001b[0m\n\u001b[0;32m      5\u001b[0m     sub \u001b[38;5;241m=\u001b[39m x \u001b[38;5;241m-\u001b[39m y\n\u001b[0;32m      6\u001b[0m     \u001b[38;5;28;01mreturn\u001b[39;00m sub\n\u001b[1;32m----> 8\u001b[0m a \u001b[38;5;241m=\u001b[39m \u001b[43msubstract\u001b[49m\u001b[43m(\u001b[49m\u001b[38;5;124;43m'\u001b[39;49m\u001b[38;5;124;43myou\u001b[39;49m\u001b[38;5;124;43m'\u001b[39;49m\u001b[43m,\u001b[49m\u001b[43m \u001b[49m\u001b[38;5;124;43m'\u001b[39;49m\u001b[38;5;124;43mme\u001b[39;49m\u001b[38;5;124;43m'\u001b[39;49m\u001b[43m)\u001b[49m\n\u001b[0;32m      9\u001b[0m \u001b[38;5;28mprint\u001b[39m(a)\n",
      "Input \u001b[1;32mIn [13]\u001b[0m, in \u001b[0;36msubstract\u001b[1;34m(x, y)\u001b[0m\n\u001b[0;32m      4\u001b[0m \u001b[38;5;28;01mdef\u001b[39;00m \u001b[38;5;21msubstract\u001b[39m(x, y):\n\u001b[1;32m----> 5\u001b[0m     sub \u001b[38;5;241m=\u001b[39m \u001b[43mx\u001b[49m\u001b[43m \u001b[49m\u001b[38;5;241;43m-\u001b[39;49m\u001b[43m \u001b[49m\u001b[43my\u001b[49m\n\u001b[0;32m      6\u001b[0m     \u001b[38;5;28;01mreturn\u001b[39;00m sub\n",
      "\u001b[1;31mTypeError\u001b[0m: unsupported operand type(s) for -: 'str' and 'str'"
     ]
    }
   ],
   "source": [
    "#python의 경우, \"타입 명시\"가 없기 때문에, 함수 생성 시, 의도된 파라미터의 타입에 맞게 입력을 전달하는 것이 중요\n",
    "# 에러 발생\n",
    "\n",
    "def substract(x, y):\n",
    "    sub = x - y\n",
    "    return sub\n",
    "\n",
    "a = substract('you', 'me') # 숫자로 인자를 호출해야함\n",
    "print(a)"
   ]
  },
  {
   "cell_type": "markdown",
   "metadata": {},
   "source": [
    "####  Default parameter (기본 인자) \n",
    " + 함수의 파라미터에 기본값 지정 가능\n",
    " + 파라미터를 명시하지 않을 경우, 지정된 기본값으로 대체"
   ]
  },
  {
   "cell_type": "code",
   "execution_count": 15,
   "metadata": {},
   "outputs": [
    {
     "name": "stdout",
     "output_type": "stream",
     "text": [
      "35\n"
     ]
    }
   ],
   "source": [
    "# 인자가 2개일 경우 꼭 2개를 주지 않고 함수 사용 가능\n",
    "\n",
    "def add(x, y, z=5):\n",
    "    _sum = x + y + z\n",
    "    return _sum\n",
    "\n",
    "c = add(10, 20)    # z 값을 위에서 정의했기 때문에 z 자리는 호출 인자가 필요 없음.\n",
    "\n",
    "print(c)"
   ]
  },
  {
   "cell_type": "markdown",
   "metadata": {},
   "source": [
    "* **기본 파라미터의 다른 예**\n",
    " - print 함수\n",
    "   - sep, end, file등 여러 기본 파라미터를 가짐 "
   ]
  },
  {
   "cell_type": "code",
   "execution_count": 8,
   "metadata": {},
   "outputs": [
    {
     "name": "stdout",
     "output_type": "stream",
     "text": [
      "1!2!3%%%\n",
      "2p3p4%%%"
     ]
    }
   ],
   "source": [
    "print(1, 2, 3, sep='!', end='%%%\\n')\n",
    "print(2, 3, 4, sep='p', end='%%%')"
   ]
  },
  {
   "cell_type": "markdown",
   "metadata": {},
   "source": [
    "####  Default parameter 사용 시 주의 점\n",
    "  * 디폴트 파라미터 뒤에 일반 파라미터가 위치할 수 없음\n",
    "  \n",
    "  * e.g) 올바른 예\n",
    "    > def test(a, b, c = 1)\n",
    "    \n",
    "    > def test(a, b = 1, c = 2)\n",
    "    \n",
    "    > def test(a = 1, b = 1, c = 3)\n",
    "    \n",
    "  * e.g) 올바르지 않은 예\n",
    "    > def test(a, b = 1, c)\n",
    "    \n",
    "    > def test(a = 1, b, c)\n",
    "    \n",
    "    > def test(a = 1, b = 1, c)"
   ]
  },
  {
   "cell_type": "code",
   "execution_count": 19,
   "metadata": {},
   "outputs": [
    {
     "name": "stdout",
     "output_type": "stream",
     "text": [
      "10 20 30\n"
     ]
    }
   ],
   "source": [
    "def test(a, b, c = 1):\n",
    "    print(a, b, c)\n",
    "    \n",
    "test(10, 20, 30)"
   ]
  },
  {
   "cell_type": "code",
   "execution_count": 21,
   "metadata": {},
   "outputs": [
    {
     "ename": "SyntaxError",
     "evalue": "non-default argument follows default argument (1696916430.py, line 3)",
     "output_type": "error",
     "traceback": [
      "\u001b[1;36m  Input \u001b[1;32mIn [21]\u001b[1;36m\u001b[0m\n\u001b[1;33m    def test(a = 1, b = 1, c):\u001b[0m\n\u001b[1;37m                            ^\u001b[0m\n\u001b[1;31mSyntaxError\u001b[0m\u001b[1;31m:\u001b[0m non-default argument follows default argument\n"
     ]
    }
   ],
   "source": [
    "# 에러 발생\n",
    "\n",
    "def test(a = 1, b = 1, c):\n",
    "    print(a, b, c)\n",
    "    \n",
    "test(10, 20, 30)"
   ]
  },
  {
   "cell_type": "markdown",
   "metadata": {},
   "source": [
    "#### **keyword parameter (키워드 파라미터)**\n",
    "  * 파이썬의 경우, 파라미터에 값을 전달 할 때, 파라미터의 이름을 명시하여 전달 가능\n",
    "  * 파라미터 이름을 사용하지 않을 경우, 기본적으로 순서에 맞게 전달"
   ]
  },
  {
   "cell_type": "code",
   "execution_count": 24,
   "metadata": {},
   "outputs": [
    {
     "name": "stdout",
     "output_type": "stream",
     "text": [
      "60\n",
      "55\n"
     ]
    }
   ],
   "source": [
    "def test(x, y, z):\n",
    "    a = x + y + z\n",
    "    return a\n",
    "\n",
    "a = test(10, 20, 30)\n",
    "b = test(z=10, y=20, x=25) #  이 경우 순서를 바꿔서 호출 가능함.\n",
    "\n",
    "print(a)\n",
    "print(b)"
   ]
  },
  {
   "cell_type": "markdown",
   "metadata": {},
   "source": [
    "#### **return (리턴)**\n",
    " + 기본적으로 함수의 종료를 명시\n",
    "   + return을 만나면 함수가 종료됨\n",
    "   + return 옆에 값이나 수식이 있다면 해당 값을 호출자(caller)에게 반환(전달)\n",
    "   + return 만 존재하면 None 반환\n",
    "   + return이 없는 경우, 기본적으로 함수 코드 블록이 종료되면 종료로 간주. 이때도 None 반환"
   ]
  },
  {
   "cell_type": "code",
   "execution_count": 40,
   "metadata": {},
   "outputs": [
    {
     "name": "stdout",
     "output_type": "stream",
     "text": [
      "6\n",
      "15\n"
     ]
    }
   ],
   "source": [
    "def weird_multiply(x, y):\n",
    "    if x > 10:\n",
    "        return x * y\n",
    "    \n",
    "    # 10보다 작으면\n",
    "    print(x + y)         #이 부분은 수행됨\n",
    "    return (x + 2) * y\n",
    "    print(x + y)         #이 부분은 수행하지 않음. why? return을 만나는 순간 함수는 종료됨(의미없음)\n",
    "\n",
    "a = weird_multiply(1, 5)\n",
    "\n",
    "print(a)"
   ]
  },
  {
   "cell_type": "code",
   "execution_count": 41,
   "metadata": {},
   "outputs": [
    {
     "name": "stdout",
     "output_type": "stream",
     "text": [
      "60\n"
     ]
    }
   ],
   "source": [
    "def weird_multiply(x, y):\n",
    "    if x > 10:\n",
    "        return x * y     # x = 12이므로 if문 수행 후 이 return을 만나고 종료되어 아래 코드는 수행이 안됨.\n",
    "    \n",
    "    # 10보다 작으면\n",
    "    print(x + y)         \n",
    "    return (x + 2) * y\n",
    "\n",
    "a = weird_multiply(12, 5)\n",
    "\n",
    "print(a)"
   ]
  },
  {
   "cell_type": "code",
   "execution_count": 42,
   "metadata": {},
   "outputs": [
    {
     "name": "stdout",
     "output_type": "stream",
     "text": [
      "None\n"
     ]
    }
   ],
   "source": [
    "def weird_multiply(x, y):\n",
    "    if x > 10:\n",
    "        return             # return 값이 없을 경우 None 반환\n",
    "    \n",
    "    # 10보다 작으면\n",
    "    print(x + y)         \n",
    "    return (x + 2) * y\n",
    "\n",
    "a = weird_multiply(12, 5)\n",
    "print(a)"
   ]
  },
  {
   "cell_type": "code",
   "execution_count": 43,
   "metadata": {},
   "outputs": [
    {
     "name": "stdout",
     "output_type": "stream",
     "text": [
      "60\n"
     ]
    }
   ],
   "source": [
    "def weird_multiply(x, y):\n",
    "    if x > 10:\n",
    "        return x * y\n",
    "    \n",
    "    print(x + y)\n",
    "    #10보다 작으면\n",
    "    return (x + 2) * y\n",
    "\n",
    "a = weird_multiply(12, 5)\n",
    "print(a)"
   ]
  },
  {
   "cell_type": "code",
   "execution_count": 44,
   "metadata": {},
   "outputs": [
    {
     "name": "stdout",
     "output_type": "stream",
     "text": [
      "None\n"
     ]
    }
   ],
   "source": [
    "# x = 2 일 경우\n",
    "\n",
    "def weird_multiply(x, y):\n",
    "    if x > 10:\n",
    "        return x * y\n",
    "    #return       <= 이 부분에 return이 생략되어있음. => None으로 반환\n",
    "a = weird_multiply(2, 5)\n",
    "print(a)"
   ]
  },
  {
   "cell_type": "markdown",
   "metadata": {},
   "source": [
    "#### **multiple return (복수 값 반환)**\n",
    " + tuple반환을 하여 복수개의 값 리턴 가능"
   ]
  },
  {
   "cell_type": "code",
   "execution_count": 45,
   "metadata": {},
   "outputs": [
    {
     "name": "stdout",
     "output_type": "stream",
     "text": [
      "<class 'tuple'>\n",
      "(23, 60)\n"
     ]
    }
   ],
   "source": [
    "# 값을 두개를 반환 시킬 때\n",
    "\n",
    "def add_mul(x, y):\n",
    "    _sum = x + y\n",
    "    _mul = x * y\n",
    "    \n",
    "    return _sum, _mul   # 이 경우 2개의 값을 반환하는 것처럼 보이지만 튜플로 반환 됨.\n",
    "\n",
    "a = add_mul(20, 3)\n",
    "print(type(a))\n",
    "print(a)"
   ]
  },
  {
   "cell_type": "code",
   "execution_count": 46,
   "metadata": {},
   "outputs": [
    {
     "name": "stdout",
     "output_type": "stream",
     "text": [
      "23 60\n"
     ]
    }
   ],
   "source": [
    "# 튜플로 받고 싶지 않을 때\n",
    "\n",
    "a, b = add_mul(20, 3)  # 튜플 Unpacking으로 사용\n",
    "print(a, b)"
   ]
  },
  {
   "cell_type": "markdown",
   "metadata": {},
   "source": [
    "#### **variable scope (변수의 범위)** \n",
    " + 변수가 참조 가능한 코드상의 범위를 명시\n",
    " + 함수내의 변수는 자신이 속한 코드 블록이 종료되면 소멸됨\n",
    " + 이렇게 특정 코드 블록에서 선언된 변수를 **지역변수(local variable)** 이라고 함\n",
    " + 반대로 가장 상단에서 정의되어 프로그램 종료 전까지 유지되는 변수를 **전역변수(global variable)**이라고 함\n",
    " + 같은 이름의 지역변수와 전역변수가 존재할 경우, 지역변수의 우선순위가 더 높음"
   ]
  },
  {
   "cell_type": "code",
   "execution_count": 55,
   "metadata": {},
   "outputs": [
    {
     "name": "stdout",
     "output_type": "stream",
     "text": [
      "300 400\n",
      "700\n",
      "10 30\n"
     ]
    }
   ],
   "source": [
    "'''\n",
    "함수 외에서 선언한 이 num1, num2는 \"global 변수, 전역 변수\" 라고 함.\n",
    "'''\n",
    "num1 = 10\n",
    "num2 = 30\n",
    "\n",
    "'''\n",
    "+ test 함수에서 선언한 num1, num2 범위(생명주기, 의미를 가지는 범위)는 함수 코드 block 내 임. \n",
    "+ 어느 임의의 스택에 저장되어 있다가 함수가 끝나면 사라짐.\n",
    "\n",
    "+ 즉, 정리하면 num1, num2 변수는 생명주기가 test함수의 코드 block.\n",
    "\n",
    "+ \"local 변수, 지역 변수\" 라고함\n",
    "'''\n",
    "def test(num1, num2):\n",
    "    print(num1, num2)\n",
    "    \n",
    "    _sum = num1 + num2\n",
    "    \n",
    "    return _sum\n",
    "\n",
    "a = test(300, 400)\n",
    "\n",
    "# 아래 두 print의 변수가 가르키는 변수가 어디에서 오는지 생각하기\n",
    "print(a)\n",
    "print(num1, num2)"
   ]
  },
  {
   "cell_type": "markdown",
   "metadata": {},
   "source": [
    "#### **variable length argument (가변길이 인자)**\n",
    " - 전달되는 파라미터의 개수가 고정적이지 않은 경우 사용(동적인 경우)\n",
    " - e.g)\n",
    "   - print 함수\n",
    "   - format 함수\n",
    "  \n",
    "> ***args**,  ****kwargs**\n",
    "\n",
    "> ***args**    : 파라미터를 \"튜플\"의 형태로 전달(*x 라고 이름을 바꿀 수 있지만 관례적으로 *args라고 명시, arguments란 의미)\n",
    "\n",
    "> ****kwargs** : 파리미터를 \"딕셔너리\" 형태로 전달(네임드 파라미터)(**x 라고 이름을 바꿀 수 있지만 관례적으로\n",
    "**kargs라고 명시, keyword arguments란 의미)"
   ]
  },
  {
   "cell_type": "code",
   "execution_count": 69,
   "metadata": {},
   "outputs": [
    {
     "name": "stdout",
     "output_type": "stream",
     "text": [
      "\n",
      "1\n",
      "1 2\n",
      "1 2 3\n",
      "1 2 3 4\n",
      "1 2 3 4 5 6\n"
     ]
    }
   ],
   "source": [
    "'''\n",
    "예시로 내장함수인 print함수도 누군가 \n",
    "\n",
    "def print():\n",
    "    ~~\n",
    "    return ~\n",
    "    \n",
    "처럼 def 함수를 이용해 만들었을 거임. 하지만 아래 6개의 'print()' 처럼 파라미터가 동적일때 위 def print(): 함수에 인자를\n",
    "x, y, z, ... 로 명시 하지는 않음.\n",
    "\n",
    "ex)\n",
    "def print(x, y, z):\n",
    "    ~~\n",
    "    return ~\n",
    "    \n",
    "처럼 print함수가 받는 인자가 x, y, z라면 아래 6개의 'print()'중에서 4번째  print까지만 사용 가능함.\n",
    "\n",
    "이처럼 파라미터가 동적일 때 사용하는 것이 '가변길이 인자'임.\n",
    "'''\n",
    "\n",
    "print()\n",
    "print(1)\n",
    "print(1, 2)\n",
    "print(1, 2, 3)\n",
    "print(1, 2, 3, 4)\n",
    "print(1, 2, 3, 4, 5, 6)"
   ]
  },
  {
   "cell_type": "code",
   "execution_count": 70,
   "metadata": {},
   "outputs": [
    {
     "name": "stdout",
     "output_type": "stream",
     "text": [
      "<class 'tuple'>\n",
      "<class 'tuple'>\n",
      "<class 'tuple'>\n",
      "<class 'tuple'>\n"
     ]
    }
   ],
   "source": [
    "# 아래 test 함수에서 파라미터(인자)가 '가변길이 인자'가 되려면 파라미터 앞에 * 만 붙이면 됨.\n",
    "\n",
    "'''\n",
    "*args 는 가변길이 인자가 되고 test 함수는 내부적으로 x라고 하는 파라미터는 튜플로 인식함.\n",
    "'''\n",
    "def test(*args):\n",
    "    _type = type(args)\n",
    "    return _type\n",
    "\n",
    "a = test()\n",
    "b = test(10)\n",
    "c = test(10, 20)\n",
    "d = test(10, 20, 30)\n",
    "\n",
    "print(a)\n",
    "print(b)\n",
    "print(c)\n",
    "print(d)"
   ]
  },
  {
   "cell_type": "code",
   "execution_count": 71,
   "metadata": {},
   "outputs": [
    {
     "name": "stdout",
     "output_type": "stream",
     "text": [
      "10\n",
      "20\n",
      "30\n"
     ]
    }
   ],
   "source": [
    "def test(*args):\n",
    "    for item in args:\n",
    "        print(item)\n",
    "\n",
    "a = test(10, 20, 30)"
   ]
  },
  {
   "cell_type": "code",
   "execution_count": 72,
   "metadata": {},
   "outputs": [
    {
     "name": "stdout",
     "output_type": "stream",
     "text": [
      "10\n",
      "20\n",
      "30\n",
      "30\n"
     ]
    }
   ],
   "source": [
    "# 출력 결과에서 30이 2번 나온 이유에 대해 생각해보기\n",
    "\n",
    "def test(*args):\n",
    "    for item in args:\n",
    "        print(item)\n",
    "        \n",
    "    return item\n",
    "\n",
    "a = test(10, 20, 30)\n",
    "\n",
    "print(a)"
   ]
  },
  {
   "cell_type": "markdown",
   "metadata": {},
   "source": [
    "#### **keyword parameter (키워드 파라미터)**\n",
    " - \\**가 붙은 경우에는 키워드 파라미터로 인식\n",
    " - 즉 함수 호출 시, 파리미터의 이름과 값을 함께 전달 가능"
   ]
  },
  {
   "cell_type": "code",
   "execution_count": 77,
   "metadata": {},
   "outputs": [
    {
     "name": "stdout",
     "output_type": "stream",
     "text": [
      "<class 'dict'>\n"
     ]
    }
   ],
   "source": [
    "def test2(**kargs):\n",
    "    print(type(kargs))\n",
    "    \n",
    "test2()"
   ]
  },
  {
   "cell_type": "code",
   "execution_count": 78,
   "metadata": {},
   "outputs": [
    {
     "name": "stdout",
     "output_type": "stream",
     "text": [
      "<class 'dict'>\n"
     ]
    }
   ],
   "source": [
    "def test2(**kargs):\n",
    "    print(type(kargs))\n",
    "    \n",
    "test2(a=1, b=2, c=3, d=4, name='Hello python') # 키워드 파라미터로 호출"
   ]
  },
  {
   "cell_type": "code",
   "execution_count": 82,
   "metadata": {},
   "outputs": [
    {
     "name": "stdout",
     "output_type": "stream",
     "text": [
      "key : a value : 1\n",
      "key : b value : 2\n",
      "key : c value : 3\n",
      "key : d value : 4\n",
      "key : name value : Hello python\n"
     ]
    }
   ],
   "source": [
    "def test2(**kargs):\n",
    "    for key, value in kargs.items():\n",
    "        print('key :', key,  'value :', value)\n",
    "    \n",
    "test2(a=1, b=2, c=3, d=4, name='Hello python') # 키워드 파라미터로 호출"
   ]
  },
  {
   "cell_type": "markdown",
   "metadata": {},
   "source": [
    "* 가변길이 함수의 대표적인 예\n",
    " **문자열 포맷 함수**\n",
    " - 여러가지 값과 포맷을 이용하여 문자열을 정의할 수 있는 함수\n",
    " - {} placeholder를 문자열 내에 위치 시킨 후, 해당 위치에 format함수로 전달된 값으로 대체하여 문자열 생성\n",
    " - ' .format() ' 사용, () 안에는 '{}'의 개수 만큼 값을 적음.\n",
    " - 포맷 구성은 다음 링크 참조 : https://pyformat.info/"
   ]
  },
  {
   "cell_type": "code",
   "execution_count": 83,
   "metadata": {},
   "outputs": [
    {
     "name": "stdout",
     "output_type": "stream",
     "text": [
      "오늘 온도 : 30도, 강수 확률은 : 60%\n"
     ]
    }
   ],
   "source": [
    "a = '오늘 온도 : 30도, 강수 확률은 : 60%'\n",
    "\n",
    "print(a)"
   ]
  },
  {
   "cell_type": "code",
   "execution_count": 84,
   "metadata": {},
   "outputs": [
    {
     "name": "stdout",
     "output_type": "stream",
     "text": [
      "오늘 온도 : 20도, 강수 확률은 : 30%\n"
     ]
    }
   ],
   "source": [
    "# {} => 어떤 값 할당되기 전에 {}로 값이 올 자리를 미리 할당 시킴.\n",
    "\n",
    "a = '오늘 온도 : {}도, 강수 확률은 : {}%'.format(20, 30)\n",
    "\n",
    "print(a)"
   ]
  },
  {
   "cell_type": "code",
   "execution_count": 85,
   "metadata": {},
   "outputs": [
    {
     "name": "stdout",
     "output_type": "stream",
     "text": [
      "오늘 온도 : 20도, 강수 확률은 : 30%, 내일 온도는: 24도\n"
     ]
    }
   ],
   "source": [
    "a = '오늘 온도 : {}도, 강수 확률은 : {}%, 내일 온도는: {}도'.format(20, 30, 24)\n",
    "\n",
    "print(a)"
   ]
  },
  {
   "cell_type": "code",
   "execution_count": 87,
   "metadata": {},
   "outputs": [
    {
     "name": "stdout",
     "output_type": "stream",
     "text": [
      "오늘 온도 : 20도, 강수 확률은 : 30%, 내일 온도는: 24도\n"
     ]
    }
   ],
   "source": [
    "'''\n",
    "순서에 의존하지 않고 {}에 이름을 명시하여 키워드 가변길이 인자로 사용 가능 => {}가 많아지면 순서 혼동이 오기 때문에 방지 역할\n",
    ".format 도 키워드 가변길이 인자임\n",
    "'''\n",
    "\n",
    "a = '오늘 온도 : {today_temp}도, 강수 확률은 : {today_prod}%, 내일 온도는: {tomorrow_temp}도'.format(today_temp=20, today_prod=30, tomorrow_temp=24)\n",
    "\n",
    "print(a)"
   ]
  }
 ],
 "metadata": {
  "kernelspec": {
   "display_name": "Python 3 (ipykernel)",
   "language": "python",
   "name": "python3"
  },
  "language_info": {
   "codemirror_mode": {
    "name": "ipython",
    "version": 3
   },
   "file_extension": ".py",
   "mimetype": "text/x-python",
   "name": "python",
   "nbconvert_exporter": "python",
   "pygments_lexer": "ipython3",
   "version": "3.9.12"
  }
 },
 "nbformat": 4,
 "nbformat_minor": 1
}
