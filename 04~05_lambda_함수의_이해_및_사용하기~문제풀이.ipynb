{
  "cells": [
    {
      "cell_type": "markdown",
      "metadata": {
        "id": "Yx-j3zZ82k0u"
      },
      "source": [
        "\n",
        "\n",
        "### 학습목표\n",
        " 2. Lambda 함수 이해 및 사용"
      ]
    },
    {
      "cell_type": "markdown",
      "metadata": {
        "id": "nRxYDOB12k0v"
      },
      "source": [
        "* **Lambda 함수**\n",
        " + 단일문으로 표현되는 익명함수\n",
        " + 익명함수란 이름이 없는 구현체만 존재하는 간단한 함수를 의미\n",
        " + 코드 상에서 한번만 사용되는 기능이 있을 때, 굳이 함수로 만들지 않고 1회성으로 만들어서 쓸 때 사용.\n",
        " + ex) lambda {파라미터}:{리턴값}"
      ]
    },
    {
      "cell_type": "code",
      "source": [],
      "metadata": {
        "id": "PyIUSo412nIc"
      },
      "execution_count": null,
      "outputs": []
    },
    {
      "cell_type": "code",
      "source": [],
      "metadata": {
        "id": "Gs765A-C2nC8"
      },
      "execution_count": null,
      "outputs": []
    },
    {
      "cell_type": "code",
      "source": [],
      "metadata": {
        "id": "6j89yu2E2m9M"
      },
      "execution_count": null,
      "outputs": []
    },
    {
      "cell_type": "code",
      "source": [],
      "metadata": {
        "id": "r5haA5II2m43"
      },
      "execution_count": null,
      "outputs": []
    },
    {
      "cell_type": "markdown",
      "metadata": {
        "id": "s4gO2QF82k0w"
      },
      "source": [
        "+ **많이 쓰이는 예**\n",
        "+ 알파벳 순서대로 출력"
      ]
    },
    {
      "cell_type": "code",
      "source": [],
      "metadata": {
        "id": "91PO3qss2n9T"
      },
      "execution_count": null,
      "outputs": []
    },
    {
      "cell_type": "markdown",
      "metadata": {
        "id": "qNMzviWT2k0w"
      },
      "source": [
        "* 문자열 길이 짧은 순으로 정렬"
      ]
    },
    {
      "cell_type": "code",
      "source": [],
      "metadata": {
        "id": "xbpmA9fe2pBn"
      },
      "execution_count": null,
      "outputs": []
    },
    {
      "cell_type": "code",
      "source": [],
      "metadata": {
        "id": "lm0J5lM42o-z"
      },
      "execution_count": null,
      "outputs": []
    },
    {
      "cell_type": "markdown",
      "metadata": {
        "id": "yT5YgP2L2k0w"
      },
      "source": [
        "+ 위 문제를 lambda함수로 선언하기"
      ]
    },
    {
      "cell_type": "code",
      "source": [],
      "metadata": {
        "id": "dAhXOUsT2qGa"
      },
      "execution_count": null,
      "outputs": []
    },
    {
      "cell_type": "markdown",
      "metadata": {
        "id": "ERGCupPr2k0w"
      },
      "source": [
        "#### **filter, map, reduce**\n",
        " + lambda가 유용하게 사용되는 3가지 대표적 함수\n",
        " + 함수형 프로그래밍의 기본 요소이기도 함\n",
        " + filter : 특정 조건을 만족하는 요소만 남기고 필터링\n",
        " + map    : 각 원소를 주어진 수식에 따라 변형하여 새로운 리스트를 반환\n",
        " + reduce : 차례대로 앞 2개의 원소를 가지고 연산. 연산의 결과가 또 다음 연산의 입력으로 진행됨. 따라서 마지막까지 진행되면 최종 출력은 한개의 값만 남게 됨\n",
        "\n",
        "+ filter({함수}, {list}) => 함수가 각각 리스트 원소에 불러옴. 그 함수가 True면 남기고 False면 아웃시킴\n",
        "+ map({함수}, {list})    => filter을 하지 않지만 맵핑시켜 다른 리스트로 선언(리스트의 갯수는 변하지 않음)\n",
        "+ reduce({함수},list)    => 함수가 필요로하는 파라미터는 2개 ex) lambda x,y:x+y, a"
      ]
    },
    {
      "cell_type": "markdown",
      "metadata": {
        "id": "hcvYmyma2k0w"
      },
      "source": [
        "###### 짝수만 남기는 코드"
      ]
    },
    {
      "cell_type": "markdown",
      "metadata": {
        "id": "m3FTrix62k0w"
      },
      "source": [
        "def 함수 사용하기"
      ]
    },
    {
      "cell_type": "code",
      "source": [],
      "metadata": {
        "id": "3lviIJE-2rWV"
      },
      "execution_count": null,
      "outputs": []
    },
    {
      "cell_type": "code",
      "source": [],
      "metadata": {
        "id": "ZNA8nxM02rTZ"
      },
      "execution_count": null,
      "outputs": []
    },
    {
      "cell_type": "markdown",
      "metadata": {
        "id": "scOolRlu2k0x"
      },
      "source": [
        "lambda 함수 사용하기"
      ]
    },
    {
      "cell_type": "code",
      "source": [],
      "metadata": {
        "id": "6Bty_45p2sP3"
      },
      "execution_count": null,
      "outputs": []
    },
    {
      "cell_type": "markdown",
      "metadata": {
        "id": "XN2p1TIa2k0x"
      },
      "source": [
        "###### 주어진 리스트에서 리스트의 제곱을 한 숫자로 이루어진 리스트 만들기"
      ]
    },
    {
      "cell_type": "code",
      "source": [],
      "metadata": {
        "id": "4FedPf5D2s8K"
      },
      "execution_count": null,
      "outputs": []
    },
    {
      "cell_type": "markdown",
      "metadata": {
        "id": "vkzAnzwf2k0x"
      },
      "source": [
        "###### 주어진 리스트에서 짝수면 True, 홀수면  False값으로 이루어진 리스트 만들기"
      ]
    },
    {
      "cell_type": "markdown",
      "metadata": {
        "id": "TMYbvVNu2k0x"
      },
      "source": [
        "def 함수 사용하기"
      ]
    },
    {
      "cell_type": "code",
      "source": [],
      "metadata": {
        "id": "KKLM4pEJ2t2x"
      },
      "execution_count": null,
      "outputs": []
    },
    {
      "cell_type": "code",
      "source": [],
      "metadata": {
        "id": "1XZ1neJy2tyy"
      },
      "execution_count": null,
      "outputs": []
    },
    {
      "cell_type": "markdown",
      "metadata": {
        "id": "ikcawHkx2k0x"
      },
      "source": [
        "lambda 함수 사용하기"
      ]
    },
    {
      "cell_type": "code",
      "source": [],
      "metadata": {
        "id": "gCl3sPmt2um0"
      },
      "execution_count": null,
      "outputs": []
    },
    {
      "cell_type": "markdown",
      "metadata": {
        "id": "pxAbdkgd2k0x"
      },
      "source": [
        "###### 주어진 리스트에서 원소의 합 계산하기"
      ]
    },
    {
      "cell_type": "markdown",
      "metadata": {
        "id": "hJNXvmfK2k0x"
      },
      "source": [
        "lambda 함수 사용하기"
      ]
    },
    {
      "cell_type": "code",
      "source": [],
      "metadata": {
        "id": "vatdJGcp2vkk"
      },
      "execution_count": null,
      "outputs": []
    },
    {
      "cell_type": "markdown",
      "metadata": {
        "id": "HgdbKbBE2k0x"
      },
      "source": [
        "#### 함수 연습문제\n",
        "+ 1. 함수의 이름 정의(기능을 충분히 표현하는 이름으로 정의)\n",
        "+ 2. 입력 개수와 Type 정의\n",
        "+ 3. 함수 return해야 하는 출력 값이 무엇인지 정의\n",
        "+ 4. logic 정의"
      ]
    },
    {
      "cell_type": "markdown",
      "metadata": {
        "id": "ZQ4kOOre2k0x"
      },
      "source": [
        " 1. 주어진 숫자 리스트의 평균을 구하는 함수를 출력하시오"
      ]
    },
    {
      "cell_type": "code",
      "source": [],
      "metadata": {
        "id": "QD6c0a5Y2wjJ"
      },
      "execution_count": null,
      "outputs": []
    },
    {
      "cell_type": "code",
      "source": [],
      "metadata": {
        "id": "cT8f_KHr2wgk"
      },
      "execution_count": null,
      "outputs": []
    },
    {
      "cell_type": "markdown",
      "metadata": {
        "id": "4Z7ibjn52k0x"
      },
      "source": [
        "2. 해당 숫자가 소수인지 아닌지 판별하시오."
      ]
    },
    {
      "cell_type": "code",
      "source": [],
      "metadata": {
        "id": "Xzadyq5Y2xj8"
      },
      "execution_count": null,
      "outputs": []
    },
    {
      "cell_type": "code",
      "source": [],
      "metadata": {
        "id": "dQhZ6RBx2xgj"
      },
      "execution_count": null,
      "outputs": []
    },
    {
      "cell_type": "markdown",
      "metadata": {
        "id": "aReE03QT2k0y"
      },
      "source": [
        "3. 2부터 해당 숫자사이에 소수가 몇개인지 출력하는 함수를 구하시오"
      ]
    },
    {
      "cell_type": "code",
      "source": [],
      "metadata": {
        "id": "HQMTtS5i2yr5"
      },
      "execution_count": null,
      "outputs": []
    },
    {
      "cell_type": "code",
      "source": [],
      "metadata": {
        "id": "xtDHV-3q2yls"
      },
      "execution_count": null,
      "outputs": []
    },
    {
      "cell_type": "code",
      "source": [],
      "metadata": {
        "id": "5MG0xohl2yix"
      },
      "execution_count": null,
      "outputs": []
    }
  ],
  "metadata": {
    "kernelspec": {
      "display_name": "Python 3 (ipykernel)",
      "language": "python",
      "name": "python3"
    },
    "language_info": {
      "codemirror_mode": {
        "name": "ipython",
        "version": 3
      },
      "file_extension": ".py",
      "mimetype": "text/x-python",
      "name": "python",
      "nbconvert_exporter": "python",
      "pygments_lexer": "ipython3",
      "version": "3.9.12"
    },
    "colab": {
      "provenance": []
    }
  },
  "nbformat": 4,
  "nbformat_minor": 0
}